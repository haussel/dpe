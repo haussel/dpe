{
 "cells": [
  {
   "cell_type": "code",
   "execution_count": 1,
   "id": "71cd1b63-eacd-4614-8fb7-94fdcc6fc5f9",
   "metadata": {},
   "outputs": [],
   "source": [
    "%matplotlib inline\n",
    "\n",
    "import numpy as np\n",
    "import dpe"
   ]
  },
  {
   "cell_type": "markdown",
   "id": "70dc15dc-ef07-405e-8447-ff09097b251d",
   "metadata": {},
   "source": [
    "# Calcul du DPE d'un appartement\n",
    "\n",
    "## Quelques élements important:\n",
    "\n",
    "* zone climatique: on détermine la zone climatique de l'appartement a partir de son département.\n",
    "* altitude\n",
    "* surface habitable\n",
    "* hauteur sous plafond\n",
    "* inertie: voir section 7 du joe_20211014_0240_0034.pdf pour la détermination de la classe d'inertie du bien. \n"
   ]
  },
  {
   "cell_type": "code",
   "execution_count": 2,
   "id": "beb604d2-d40f-4c7e-a00f-3ef0868486d1",
   "metadata": {
    "scrolled": true
   },
   "outputs": [
    {
     "name": "stdout",
     "output_type": "stream",
     "text": [
      "La zone climatique est: 'H1a'\n"
     ]
    }
   ],
   "source": [
    "# zone climatique\n",
    "zc = dpe.get_zone_climatique('75')\n",
    "print(\"La zone climatique est: '{}'\".format(zc))"
   ]
  },
  {
   "cell_type": "code",
   "execution_count": 3,
   "id": "c5299492-9c4d-4d7a-bef9-428047df4fc5",
   "metadata": {},
   "outputs": [],
   "source": [
    "# altitude (m)\n",
    "altitude = 300.\n",
    "# Surface habitable (m2). \n",
    "sh = 38.9\n",
    "# hauteur sous plafond (m): \n",
    "hsp = 2.65\n",
    "# haute_inertie ?\n",
    "haute_inertie = False"
   ]
  },
  {
   "cell_type": "markdown",
   "id": "f11606ef-8cc4-4a91-9533-fab24994ba42",
   "metadata": {},
   "source": [
    "## Déperditions Thermiques\n",
    "\n",
    "### Murs, planchers, fenetres et portes\n",
    "\n",
    "Pour les parois on déclare: \n",
    "* b_{paroi}: coefficient de réduction des déperditions de la paroi. Pour une paroi donnant sur un local chauffé, b=0, pour une paroi donnant siur l'extérieur, b=1., pour une paroi donnant sur un local non chauffé, se reporter a la section 3.1 du joe_20211014_0240_0034.pdf\n",
    "* S_{paroi}: surface de la paroi déperditive (m2)\n",
    "* U_{paroi}: coefficient de transmission thermique de la paroi (W/(m².K). Se référer a la section 3.2.1 du joe_20211014_0240_0034.pdf\n",
    "  \n",
    "#### Murs:\n"
   ]
  },
  {
   "cell_type": "code",
   "execution_count": 4,
   "id": "adcb404d-912c-4aef-ab02-7a02ebee7824",
   "metadata": {},
   "outputs": [],
   "source": [
    "b_mur = np.array([0.5, 0., 1., 1., 1., 1., 1., 1.])"
   ]
  },
  {
   "cell_type": "code",
   "execution_count": 5,
   "id": "edef2fcd-e0b4-4af9-9e2c-3583d16fe943",
   "metadata": {},
   "outputs": [],
   "source": [
    "S_mur = np.array([8.34, 10.81, 4.45, 6.14, 17.46, 11.07, 14.48, 1.89])"
   ]
  },
  {
   "cell_type": "code",
   "execution_count": 6,
   "id": "00d08164-7328-4756-91ad-ccce38337f0b",
   "metadata": {},
   "outputs": [],
   "source": [
    "U_mur = np.ones(8) * 1.9"
   ]
  },
  {
   "cell_type": "code",
   "execution_count": 7,
   "id": "d1865870-0c7a-4cc1-8fad-b46c13405d19",
   "metadata": {},
   "outputs": [
    {
     "name": "stdout",
     "output_type": "stream",
     "text": [
      "D_mur = 113.354 a comparer aux deperdition_mur = 113.354 enregistré a l'ademe\n"
     ]
    }
   ],
   "source": [
    "# Déperditions mur:\n",
    "D_mur = np.sum(b_mur*S_mur*U_mur)\n",
    "print(\"D_mur = {} a comparer aux deperdition_mur = 113.354 enregistré a l'ademe\".format(D_mur))"
   ]
  },
  {
   "cell_type": "markdown",
   "id": "f95be836-491a-44b2-b372-12eb1f795eca",
   "metadata": {},
   "source": [
    "#### Plancher\n",
    "\n",
    "Donnent sur des locaux chauffés: b = 0"
   ]
  },
  {
   "cell_type": "code",
   "execution_count": 8,
   "id": "01de1f3b-cba0-492e-b2ac-6858639845d4",
   "metadata": {},
   "outputs": [],
   "source": [
    "D_plancher = 0."
   ]
  },
  {
   "cell_type": "markdown",
   "id": "76552d53-f403-49c8-b297-eb0ede575ffd",
   "metadata": {},
   "source": [
    "#### Fenetres:\n",
    "\n",
    "En sus des b, U et S, On a en outre besoin:\n",
    "* de leur inclinaison et orientation pour calculer les apports solaires.\n",
    "* de leur périmetre et du type de pose (au nu interieur, au nu exterieur, etc...) pour la détermination des ponts thermiques."
   ]
  },
  {
   "cell_type": "code",
   "execution_count": 9,
   "id": "4c04b843-0e2b-49ba-a3cc-8132e784aa0d",
   "metadata": {},
   "outputs": [],
   "source": [
    "b_fenetres = np.ones(5)"
   ]
  },
  {
   "cell_type": "code",
   "execution_count": 10,
   "id": "933ceb9f-b948-4871-9103-0740efbf8da5",
   "metadata": {},
   "outputs": [],
   "source": [
    "U_fenetres = np.array([2.5, 3.0, 2.5, 2.5, 2.5])"
   ]
  },
  {
   "cell_type": "code",
   "execution_count": 11,
   "id": "fa2bf85d-5762-409f-bdf2-02034ee7ec3e",
   "metadata": {},
   "outputs": [],
   "source": [
    "S_fenetres = np.array([1.3399, 0.54, 0.9, 1.56, 1.56])"
   ]
  },
  {
   "cell_type": "code",
   "execution_count": 34,
   "id": "90f4ee46-09dc-4709-b8cd-67abf809a7b1",
   "metadata": {},
   "outputs": [],
   "source": [
    "Orientation_fenetres = np.array(['Nord', 'Ouest', 'Ouest', 'Est', 'Est'])\n",
    "Sw_fenetres = np.array([0.44, 0.47, 0.44, 0.44, 0.44])"
   ]
  },
  {
   "cell_type": "code",
   "execution_count": 13,
   "id": "af4d5b90-6f9f-413b-8fe9-cef9f21a70d7",
   "metadata": {},
   "outputs": [],
   "source": [
    "Inclinaison_fenetres = np.ones(5)*90."
   ]
  },
  {
   "cell_type": "code",
   "execution_count": 14,
   "id": "e52c19d7-87e2-4f92-b5c1-05ee8601eefd",
   "metadata": {},
   "outputs": [
    {
     "name": "stdout",
     "output_type": "stream",
     "text": [
      "D_fenetres = 15.01975 a comparer aux deperdition_baie_vitree = 15.02 enregistré a l'ademe\n"
     ]
    }
   ],
   "source": [
    "# Déperditions fenetres:\n",
    "D_fenetres = np.sum(b_fenetres*S_fenetres*U_fenetres)\n",
    "print(\"D_fenetres = {} a comparer aux deperdition_baie_vitree = 15.02 enregistré a l'ademe\".format(D_fenetres))"
   ]
  },
  {
   "cell_type": "code",
   "execution_count": 15,
   "id": "90d763bc-baf7-4d2b-acbb-b993ea665b7e",
   "metadata": {},
   "outputs": [],
   "source": [
    "#### Porte:\n"
   ]
  },
  {
   "cell_type": "code",
   "execution_count": 16,
   "id": "9b435f17-ec7f-40ed-8e9e-9391e36c851d",
   "metadata": {},
   "outputs": [],
   "source": [
    "b_porte = np.array([0.5])"
   ]
  },
  {
   "cell_type": "code",
   "execution_count": 17,
   "id": "4a869600-b61b-435c-9bd4-5a660c0ecf24",
   "metadata": {},
   "outputs": [],
   "source": [
    "U_porte = np.array([3.5])"
   ]
  },
  {
   "cell_type": "code",
   "execution_count": 18,
   "id": "dcd4eff4-972c-4994-9846-bd65fa03d0ef",
   "metadata": {},
   "outputs": [],
   "source": [
    "S_porte = np.array([1.49])"
   ]
  },
  {
   "cell_type": "code",
   "execution_count": 19,
   "id": "cee260d4-4728-47fc-8b3b-07cb774a655c",
   "metadata": {},
   "outputs": [
    {
     "name": "stdout",
     "output_type": "stream",
     "text": [
      "D_porte = 2.6075 a comparer aux deperdition_porte = 2.6075 enregistré a l'ademe\n"
     ]
    }
   ],
   "source": [
    "# Déperditions porte:\n",
    "D_porte = np.sum(b_porte*S_porte*U_porte)\n",
    "print(\"D_porte = {} a comparer aux deperdition_porte = 2.6075 enregistré a l'ademe\".format(D_porte))"
   ]
  },
  {
   "cell_type": "markdown",
   "id": "d791945e-7777-4f65-80d0-6be0a561d52a",
   "metadata": {},
   "source": [
    "### Ponts thermiques\n",
    "\n",
    "Cf la section 3.4 de joe_20211014_0240_0034.pdf. L'appartement a des planchers et plafonds bois, donc leur pont thermique est nul. \n",
    "Reste les ponts thermiques autour des fenetres, et les refends. "
   ]
  },
  {
   "cell_type": "code",
   "execution_count": 20,
   "id": "f5a9620d-7c41-4f95-9fb8-77d6846d5495",
   "metadata": {},
   "outputs": [],
   "source": [
    "# Menuiseries au nu intérieur: k=0.38\n",
    "k_fenetres = np.ones(5) * 0.38"
   ]
  },
  {
   "cell_type": "code",
   "execution_count": 21,
   "id": "0f1fb23c-9d9d-4b3e-86d0-6d9d83ddf51c",
   "metadata": {},
   "outputs": [],
   "source": [
    "# Perimetres des fenetres.\n",
    "l_fenetres = np.array([4.66, 3.00, 3.8, 5.08, 5.08])"
   ]
  },
  {
   "cell_type": "code",
   "execution_count": 22,
   "id": "cfe71587-a15a-4e72-a502-240430ab100b",
   "metadata": {},
   "outputs": [
    {
     "name": "stdout",
     "output_type": "stream",
     "text": [
      "D_pont_thermique = 8.2156 a comparer aux deperdition_pont_thermique = 8.2156 enregistré a l'ademe\n"
     ]
    }
   ],
   "source": [
    "D_pont_thermique = np.sum(k_fenetres*l_fenetres)\n",
    "print(\"D_pont_thermique = {} a comparer aux deperdition_pont_thermique = 8.2156 enregistré a l'ademe\".format(D_pont_thermique))"
   ]
  },
  {
   "cell_type": "markdown",
   "id": "c63a7130-eeb8-495a-95d5-97991e481944",
   "metadata": {},
   "source": [
    "### Déperditions par renouvellement d'air:\n",
    "\n",
    "$D_{air} = H_{perm} + H_{vent}$\n",
    "\n",
    "$H_{vent} = 0.34 * Qvarep_{conv} * sh$ ou 0.34 est la chaleur volumique de l'air\n",
    "\n",
    "Pour cet appartement, on a Ventilation par entrées d'air hautes et basses, soit $Qvarep_{conv} 2,23 m^3/(hm^2)$"
   ]
  },
  {
   "cell_type": "code",
   "execution_count": 23,
   "id": "f3b4549b-0644-40f3-8867-7b419c6e4604",
   "metadata": {},
   "outputs": [
    {
     "name": "stdout",
     "output_type": "stream",
     "text": [
      "Hvent = 29.493980000000004 a comparer a Hvent = 29.49398 enregistré a l'ademe\n"
     ]
    }
   ],
   "source": [
    "Qvarepconv = 2.23\n",
    "Hvent = 0.34 * Qvarepconv * sh\n",
    "print(\"Hvent = {} a comparer a Hvent = 29.49398 enregistré a l'ademe\".format(Hvent))"
   ]
  },
  {
   "cell_type": "markdown",
   "id": "356e837e-45b4-4d3a-bd40-b28b0763a511",
   "metadata": {},
   "source": [
    "$H_{perm} = 0.34 \\times Qvinf$ ou $Qvinf$ est débit d’air dû aux infiltrations liées au vent.\n",
    "\n",
    "$Qvinf = \\frac{hsp \\times sh \\times n_{50} e}{1 + \\frac{f}{e} \\left(\\frac{Qvasouf_{conv}-Qvarep_{conv}}{hsp \\times n_{50}}\\right)^{2}}$"
   ]
  },
  {
   "cell_type": "code",
   "execution_count": 24,
   "id": "9827b42a-782f-4d4e-ba76-2c289a2f782c",
   "metadata": {},
   "outputs": [],
   "source": [
    "# Plusieurs parois exposées:\n",
    "f = 15\n",
    "e = 0.07"
   ]
  },
  {
   "cell_type": "markdown",
   "id": "774233b2-29c6-4a04-858b-b2f8ceb28d84",
   "metadata": {},
   "source": [
    "$n_{50} = \\frac{Q_{4pa}}{\\left(\\frac{4}{50}\\right)^{2/3} hsp \\times sh}$\n",
    "\n",
    "$Q_{4pa} = Q_{4pa_{conv}} + 0.45 \\times Smea_{conv} \\times S_{dep}$"
   ]
  },
  {
   "cell_type": "code",
   "execution_count": 25,
   "id": "0c2bfeb3-da02-48ec-bb0d-1161fe2dd9cc",
   "metadata": {},
   "outputs": [],
   "source": [
    "#  valeur conventionnelle de la perméabilité sous 4Pa Valeur tabulée page 34. Change si isolation.\n",
    "Q4paconv = 4.6 \n",
    "# somme des modules d’entrée d’air sous 20 Pa par unité de surface habitable\n",
    "# (m3/(h.m2)) tableau p 39\n",
    "Smeaconv = 4\n",
    "# surface des parois déperditives hors plancher bas (m²)\n",
    "Sdep = np.sum(S_mur[2:])# + np.sum(S_fenetres)\n",
    "# débit volumique conventionnel à souffler (m3/(h.m²)) table p 39\n",
    "Qvasoufconv = 0."
   ]
  },
  {
   "cell_type": "code",
   "execution_count": 26,
   "id": "b8b0b397-647e-4164-b016-c4eace34c027",
   "metadata": {},
   "outputs": [],
   "source": [
    "Q4paenv = Q4paconv * Sdep\n",
    "Q4pa = Q4paenv + 0.45 * Smeaconv * sh \n",
    "n50 = Q4pa / ((4/50)**(2/3) * hsp * sh)"
   ]
  },
  {
   "cell_type": "code",
   "execution_count": 27,
   "id": "fc3b2291-7e25-4b15-a664-40a6549ce2d9",
   "metadata": {},
   "outputs": [],
   "source": [
    "Qvinf = hsp * sh * n50 * e / (1 + f/e * (((Qvasoufconv-Qvarepconv)/(hsp * n50))**2))"
   ]
  },
  {
   "cell_type": "code",
   "execution_count": 28,
   "id": "64ff843d-3bcd-4173-beb1-531ca8f93379",
   "metadata": {},
   "outputs": [
    {
     "name": "stdout",
     "output_type": "stream",
     "text": [
      "Hperm = 27.33552244183868 a comparer a Hperm = 37.7136 enregistré a l'ademe\n"
     ]
    }
   ],
   "source": [
    "Hperm = 0.34 * Qvinf\n",
    "print(\"Hperm = {} a comparer a Hperm = 37.7136 enregistré a l'ademe\".format(Hperm))"
   ]
  },
  {
   "cell_type": "code",
   "execution_count": 29,
   "id": "6d2f8f1f-0886-4bbf-8241-92d13bfc3f81",
   "metadata": {},
   "outputs": [],
   "source": [
    "Hperm = 37.7136"
   ]
  },
  {
   "cell_type": "code",
   "execution_count": 30,
   "id": "daa3d653-de51-439b-832c-baf6e1783c80",
   "metadata": {},
   "outputs": [
    {
     "name": "stdout",
     "output_type": "stream",
     "text": [
      "D_renouvellement_air = 67.20758000000001 a comparer a D_renouvellement_air = 67.20758 enregistré a l'ademe\n"
     ]
    }
   ],
   "source": [
    "D_renouvellement_air = Hperm + Hvent\n",
    "print(\"D_renouvellement_air = {} a comparer a D_renouvellement_air = 67.20758 enregistré a l'ademe\".format(D_renouvellement_air))"
   ]
  },
  {
   "cell_type": "markdown",
   "id": "116c1fa8-6fdf-4693-b15d-a32093c004d3",
   "metadata": {},
   "source": [
    "### Deperditions totales:"
   ]
  },
  {
   "cell_type": "code",
   "execution_count": 31,
   "id": "ce2d45e5-608d-403f-8ed7-ecf6271295e9",
   "metadata": {},
   "outputs": [
    {
     "name": "stdout",
     "output_type": "stream",
     "text": [
      "D_tot = 206.40443 a comparer a D_enveloppe = 206.405 enregistré a l'ademe\n"
     ]
    }
   ],
   "source": [
    "D_tot = D_mur + D_plancher + D_fenetres + D_porte + D_pont_thermique + D_renouvellement_air\n",
    "print(\"D_tot = {} a comparer a D_enveloppe = 206.405 enregistré a l'ademe\".format(D_tot))"
   ]
  },
  {
   "cell_type": "markdown",
   "id": "ee7acfdf-0686-48cb-994a-1ae0ff29dc09",
   "metadata": {},
   "source": [
    "## Besoin de chauffage:\n",
    "\n",
    "Pour le mois j:\n",
    "\n",
    "$BV_{j} = GV (1 - F_{j})$\n",
    "\n",
    "Pour une inertie moyenne:\n",
    "\n",
    "$F_{j} = \\frac{X_{j}-X_{j}^{2.9}}{1-X_{j}^{2.9}}$\n",
    "\n",
    "$X_{j} = \\frac{As_{j} + Ai_{j}}{GV \\times DH_{j}}$\n",
    "\n",
    "DHj : degrés-heures de chauffage sur le mois \n",
    "\n",
    "En période de chauffe:\n",
    "\n",
    "$Ai_{j} = \\left[(3.18 + 0.34 ) \\times sh + 90. * 132./168. * N_{adeq}\\right] \\times Nref_{j}$\n",
    "\n",
    "avec $Nadeq = Nblgt * Nmax$\n",
    "\n",
    "$Nmax = 1.75 - 0.01875 * (50 - Sh)$\n",
    "\n",
    "\n",
    "$Aj_{j} = 1000. \\times sse_{j} \\times E_{j}$\n",
    "\n",
    "Avec $sse_{j}$ surface sud equivalente.\n",
    "\n",
    "### Surface sud equivalente:\n",
    "\n",
    "$sse_{j} = \\sum_{fenetres} S_{fenetre} \\times sw_{fenetre} \\times F_{fenetre} \\times C1_{fenetre, j}$\n",
    "\n",
    "\n"
   ]
  },
  {
   "cell_type": "code",
   "execution_count": 46,
   "id": "6e98b0f0-413d-4a9b-8985-80e5d17f857e",
   "metadata": {},
   "outputs": [],
   "source": [
    "c1f = dpe.get_c1(zc, 0)\n",
    "seej = S_fenetres[0] * Sw_fenetres[0] * 1. * c1f[Orientation_fenetres[0]].data + \\\n",
    "       S_fenetres[1] * Sw_fenetres[1] * 1. * c1f[Orientation_fenetres[1]].data + \\\n",
    "       S_fenetres[2] * Sw_fenetres[2] * 1. * c1f[Orientation_fenetres[2]].data + \\\n",
    "       S_fenetres[3] * Sw_fenetres[3] * 1. * c1f[Orientation_fenetres[3]].data + \\\n",
    "       S_fenetres[4] * Sw_fenetres[4] * 1. * c1f[Orientation_fenetres[4]].data\n"
   ]
  },
  {
   "cell_type": "code",
   "execution_count": 50,
   "id": "e5847275-e6e4-4940-b26a-530c1c8daa80",
   "metadata": {},
   "outputs": [
    {
     "name": "stdout",
     "output_type": "stream",
     "text": [
      "Sum (seej) = 20.601843319999997 a comparer a surface_sud_equivalente = 20.601 enregistré a l'ademe\n"
     ]
    }
   ],
   "source": [
    "print(\"Sum (seej) = {} a comparer a surface_sud_equivalente = 20.601 enregistré a l'ademe\".format(np.sum(seej)))"
   ]
  },
  {
   "cell_type": "code",
   "execution_count": 51,
   "id": "003b3617-fa25-4a80-9969-7bba66874f74",
   "metadata": {},
   "outputs": [
    {
     "name": "stdout",
     "output_type": "stream",
     "text": [
      "/Users/haussel/Documents/Perso/Beaunier/2024/DPE/dpe/data/nref_19c_b400.txt\n"
     ]
    }
   ],
   "source": [
    "nrefj = dpe.get_table('nref_19c', altitude, zc)"
   ]
  },
  {
   "cell_type": "code",
   "execution_count": 52,
   "id": "d530a4a7-a180-4463-ae40-d9d2f54cae86",
   "metadata": {},
   "outputs": [
    {
     "data": {
      "text/html": [
       "<div><i>Table length=9</i>\n",
       "<table id=\"table4567780176\" class=\"table-striped table-bordered table-condensed\">\n",
       "<thead><tr><th>Mois</th><th>H1a</th></tr></thead>\n",
       "<thead><tr><th>str9</th><th>float64</th></tr></thead>\n",
       "<tr><td>Janvier</td><td>744.0</td></tr>\n",
       "<tr><td>Février</td><td>672.0</td></tr>\n",
       "<tr><td>Mars</td><td>738.0</td></tr>\n",
       "<tr><td>Avril</td><td>695.0</td></tr>\n",
       "<tr><td>Mai</td><td>438.0</td></tr>\n",
       "<tr><td>Septembre</td><td>402.0</td></tr>\n",
       "<tr><td>Octobre</td><td>644.0</td></tr>\n",
       "<tr><td>Novembre</td><td>715.0</td></tr>\n",
       "<tr><td>Décembre</td><td>744.0</td></tr>\n",
       "</table></div>"
      ],
      "text/plain": [
       "<Table length=9>\n",
       "   Mois     H1a  \n",
       "   str9   float64\n",
       "--------- -------\n",
       "  Janvier   744.0\n",
       "  Février   672.0\n",
       "     Mars   738.0\n",
       "    Avril   695.0\n",
       "      Mai   438.0\n",
       "Septembre   402.0\n",
       "  Octobre   644.0\n",
       " Novembre   715.0\n",
       " Décembre   744.0"
      ]
     },
     "execution_count": 52,
     "metadata": {},
     "output_type": "execute_result"
    }
   ],
   "source": [
    "nrefj"
   ]
  },
  {
   "cell_type": "code",
   "execution_count": 57,
   "id": "c7174d9c-081f-40c1-ac05-ecffe648c009",
   "metadata": {},
   "outputs": [
    {
     "name": "stdout",
     "output_type": "stream",
     "text": [
      "/Users/haussel/Documents/Perso/Beaunier/2024/DPE/dpe/data/e_b400.txt\n"
     ]
    }
   ],
   "source": [
    "e = dpe.get_table('e', altitude, zc)"
   ]
  },
  {
   "cell_type": "code",
   "execution_count": 81,
   "id": "a6a451da-b5a3-48bf-a318-296813e675f6",
   "metadata": {},
   "outputs": [],
   "source": [
    "# les mois de chauffe sont:\n",
    "ich = [0, 1, 2, 3, 4, 8, 9, 10, 11]\n",
    "Ajj = seej[ich] * e[zc]"
   ]
  },
  {
   "cell_type": "code",
   "execution_count": 71,
   "id": "9f08de3e-abb4-4604-b134-7d29f99368c9",
   "metadata": {},
   "outputs": [
    {
     "name": "stdout",
     "output_type": "stream",
     "text": [
      "Sum (Ajjj) = 742.8911656864001 a comparer a apport_solaire_ch = 742.89982 enregistré a l'ademe\n"
     ]
    }
   ],
   "source": [
    "print(\"Sum (Ajj) = {} a comparer a apport_solaire_ch = 742.89982 enregistré a l'ademe\".format(np.sum(Ajj)))"
   ]
  },
  {
   "cell_type": "code",
   "execution_count": 73,
   "id": "58af83e9-8ee0-4cdf-8665-085f46515cc8",
   "metadata": {},
   "outputs": [],
   "source": [
    "Nmax = 1.75 - 0.01875 * (50 - sh)"
   ]
  },
  {
   "cell_type": "code",
   "execution_count": 74,
   "id": "80be223d-5eed-4380-83b2-9eb77d6740e9",
   "metadata": {},
   "outputs": [],
   "source": [
    "# Nmax < 1.175\n",
    "Nblgt = 1\n",
    "Nadeq = Nblgt * Nmax"
   ]
  },
  {
   "cell_type": "code",
   "execution_count": 121,
   "id": "103480d5-2339-4f07-a065-1b8399c0fea1",
   "metadata": {},
   "outputs": [
    {
     "name": "stdout",
     "output_type": "stream",
     "text": [
      "Nadeq  = 1.5418749999999999 a comparer a nadeq = 1.541875 enregistré a l'ademe\n"
     ]
    }
   ],
   "source": [
    "print(\"Nadeq  = {} a comparer a nadeq = 1.541875 enregistré a l'ademe\".format(Nadeq))"
   ]
  },
  {
   "cell_type": "code",
   "execution_count": 86,
   "id": "e20b25f7-01d6-46d1-afc8-2b5b99a418a2",
   "metadata": {},
   "outputs": [],
   "source": [
    "Aij = ((3.18 + 0.34) * sh + 90 * 132/168 * Nadeq)*nrefj['H1a'].data/1000."
   ]
  },
  {
   "cell_type": "code",
   "execution_count": 87,
   "id": "7ccade32-4f0b-441a-b076-4cb76d90b554",
   "metadata": {},
   "outputs": [
    {
     "name": "stdout",
     "output_type": "stream",
     "text": [
      "Sum (Aij) = 1424.603733142857 a comparer a apport_interne_ch = 1424.6 enregistré a l'ademe\n"
     ]
    }
   ],
   "source": [
    "print(\"Sum (Aij) = {} a comparer a apport_interne_ch = 1424.6 enregistré a l'ademe\".format(np.sum(Aij)))"
   ]
  },
  {
   "cell_type": "code",
   "execution_count": 88,
   "id": "912fe126-291b-4b1a-b02a-b52f09013bd4",
   "metadata": {},
   "outputs": [
    {
     "name": "stdout",
     "output_type": "stream",
     "text": [
      "/Users/haussel/Documents/Perso/Beaunier/2024/DPE/dpe/data/dh_19c_b400.txt\n"
     ]
    }
   ],
   "source": [
    "dhj = dpe.get_table('dh_19c', altitude, zc)"
   ]
  },
  {
   "cell_type": "code",
   "execution_count": 89,
   "id": "720c7559-e9bc-4c2f-9c84-5a59ce748cd8",
   "metadata": {},
   "outputs": [
    {
     "data": {
      "text/html": [
       "<div><i>Table length=9</i>\n",
       "<table id=\"table4583920784\" class=\"table-striped table-bordered table-condensed\">\n",
       "<thead><tr><th>Mois</th><th>H1a</th></tr></thead>\n",
       "<thead><tr><th>str9</th><th>float64</th></tr></thead>\n",
       "<tr><td>Janvier</td><td>11712.4</td></tr>\n",
       "<tr><td>Février</td><td>9966.8</td></tr>\n",
       "<tr><td>Mars</td><td>7922.7</td></tr>\n",
       "<tr><td>Avril</td><td>5877.4</td></tr>\n",
       "<tr><td>Mai</td><td>2762.0</td></tr>\n",
       "<tr><td>Septembre</td><td>2264.1</td></tr>\n",
       "<tr><td>Octobre</td><td>3645.4</td></tr>\n",
       "<tr><td>Novembre</td><td>6861.0</td></tr>\n",
       "<tr><td>Décembre</td><td>9573.3</td></tr>\n",
       "</table></div>"
      ],
      "text/plain": [
       "<Table length=9>\n",
       "   Mois     H1a  \n",
       "   str9   float64\n",
       "--------- -------\n",
       "  Janvier 11712.4\n",
       "  Février  9966.8\n",
       "     Mars  7922.7\n",
       "    Avril  5877.4\n",
       "      Mai  2762.0\n",
       "Septembre  2264.1\n",
       "  Octobre  3645.4\n",
       " Novembre  6861.0\n",
       " Décembre  9573.3"
      ]
     },
     "execution_count": 89,
     "metadata": {},
     "output_type": "execute_result"
    }
   ],
   "source": [
    "dhj"
   ]
  },
  {
   "cell_type": "code",
   "execution_count": 109,
   "id": "a3d1b327-245a-4b50-aaa0-075ab42917a6",
   "metadata": {},
   "outputs": [],
   "source": [
    "Xj = (Aij + Ajj)/(D_tot * dhj['H1a'].data)"
   ]
  },
  {
   "cell_type": "code",
   "execution_count": 110,
   "id": "f99cd96b-42d8-47a8-ab60-e0a7cec43c12",
   "metadata": {},
   "outputs": [],
   "source": [
    "Fj = (Xj - Xj**2.9)/(1. - Xj**2.9)"
   ]
  },
  {
   "cell_type": "code",
   "execution_count": 143,
   "id": "b4150016-b095-4434-9b07-75d0dc001130",
   "metadata": {},
   "outputs": [],
   "source": [
    "BVj = D_tot *  (1. - Fj)"
   ]
  },
  {
   "cell_type": "code",
   "execution_count": 147,
   "id": "e94affcc-d904-4a03-9a77-7bd045baf7e8",
   "metadata": {},
   "outputs": [
    {
     "data": {
      "text/plain": [
       "12502.865537416204"
      ]
     },
     "execution_count": 147,
     "metadata": {},
     "output_type": "execute_result"
    }
   ],
   "source": [
    "np.sum(BVj*dhj[zc])/1000."
   ]
  },
  {
   "cell_type": "markdown",
   "id": "b8c3dab1-7db7-4adf-b5b3-41daae11430c",
   "metadata": {},
   "source": [
    "# Consommation de chauffage:\n",
    "\n",
    "$ Bch_{j} = \\frac{BV_{j} \\times DH_{j}}{1000} - \\frac{Qrecchauf_{j} + Qg,w + Qgenrec_{j}}{1000} $\n",
    "\n",
    "$Qrecchauf_{j} =  0.48 * nref_{j} * \\frac{Qdq_ind + Qdcol}{8760}$"
   ]
  },
  {
   "cell_type": "code",
   "execution_count": 142,
   "id": "9e84f3b6-11f9-4196-8bd3-682f809e851d",
   "metadata": {},
   "outputs": [
    {
     "data": {
      "text/plain": [
       "10337.538133163744"
      ]
     },
     "execution_count": 142,
     "metadata": {},
     "output_type": "execute_result"
    }
   ],
   "source": [
    "np.sum(D_tot * dhj['H1a'].data / 1000. - Aij - Ajj) "
   ]
  },
  {
   "cell_type": "code",
   "execution_count": 102,
   "id": "622d61ed-131b-4c82-80cb-c3ec18eee8ef",
   "metadata": {},
   "outputs": [
    {
     "data": {
      "text/html": [
       "&lt;Column name=&apos;H1a&apos; dtype=&apos;float64&apos; length=9&gt;\n",
       "<table>\n",
       "<tr><td>9.17430444355826e-05</td></tr>\n",
       "<tr><td>0.0001020964113391875</td></tr>\n",
       "<tr><td>0.00018028742620991892</td></tr>\n",
       "<tr><td>0.00028122610590369145</td></tr>\n",
       "<tr><td>0.0004196415995830887</td></tr>\n",
       "<tr><td>0.00040190595897012486</td></tr>\n",
       "<tr><td>0.00030939849803531276</td></tr>\n",
       "<tr><td>0.00016020755316850085</td></tr>\n",
       "<tr><td>0.00010777740640770107</td></tr>\n",
       "</table>"
      ],
      "text/plain": [
       "<Column name='H1a' dtype='float64' length=9>\n",
       "  9.17430444355826e-05\n",
       " 0.0001020964113391875\n",
       "0.00018028742620991892\n",
       "0.00028122610590369145\n",
       " 0.0004196415995830887\n",
       "0.00040190595897012486\n",
       "0.00030939849803531276\n",
       "0.00016020755316850085\n",
       "0.00010777740640770107"
      ]
     },
     "execution_count": 102,
     "metadata": {},
     "output_type": "execute_result"
    }
   ],
   "source": [
    "Xj"
   ]
  },
  {
   "cell_type": "code",
   "execution_count": 128,
   "id": "ed4e0c48-7c82-4466-8af0-7c524b465d2c",
   "metadata": {},
   "outputs": [
    {
     "data": {
      "text/plain": [
       "10335.370638586948"
      ]
     },
     "execution_count": 128,
     "metadata": {},
     "output_type": "execute_result"
    }
   ],
   "source": [
    "np.sum(BVj * dhj['H1a'])/1000. - np.sum(Aij) - np.sum(Ajj)"
   ]
  },
  {
   "cell_type": "markdown",
   "id": "c5621274-a3a3-4966-b795-ee8d35ba986a",
   "metadata": {},
   "source": [
    "# Besoins Eau chaude\n",
    "\n",
    "$B_{ecs} = 1.163 * Nadeq * 56 * (40-Tefs) * nj$\n",
    "\n",
    "Consommation Ecs\n",
    "\n",
    "Cecs = Becs * Iecs\n",
    "\n",
    "avec $Iecs = \\frac{1}{Rs Rd Rg} $\n"
   ]
  },
  {
   "cell_type": "code",
   "execution_count": 129,
   "id": "2e67e394-52d8-4e51-b861-010b65f75808",
   "metadata": {},
   "outputs": [
    {
     "name": "stdout",
     "output_type": "stream",
     "text": [
      "/Users/haussel/Documents/Perso/Beaunier/2024/DPE/dpe/data/tefs_b400.txt\n"
     ]
    }
   ],
   "source": [
    "tefs = dpe.get_table('tefs', 300, zc)"
   ]
  },
  {
   "cell_type": "code",
   "execution_count": 133,
   "id": "d15b1dda-e30b-4a2a-aec1-af576521b6d9",
   "metadata": {},
   "outputs": [],
   "source": [
    "Nj = np.array([31, 28, 31, 30, 31, 30, 31, 31, 30, 31, 30, 24])\n",
    "Becs = 1.163 * Nadeq * 56 * (40. - tefs['H1a'].data)*Nj"
   ]
  },
  {
   "cell_type": "code",
   "execution_count": 137,
   "id": "32c57cd6-88ee-4842-b291-b4ccb27bdeab",
   "metadata": {},
   "outputs": [
    {
     "name": "stdout",
     "output_type": "stream",
     "text": [
      "sum(Becs)  = 1009.3639406025 a comparer a besoin_ecs = 1009.36 enregistré a l'ademe\n"
     ]
    }
   ],
   "source": [
    "print(\"sum(Becs)  = {} a comparer a besoin_ecs = 1009.36 enregistré a l'ademe\".format(np.sum(Becs)/1000.))"
   ]
  },
  {
   "cell_type": "code",
   "execution_count": null,
   "id": "a8766b2c-efc6-42c9-a954-4434d80f2619",
   "metadata": {},
   "outputs": [],
   "source": []
  }
 ],
 "metadata": {
  "kernelspec": {
   "display_name": "Python 3 (ipykernel)",
   "language": "python",
   "name": "python3"
  },
  "language_info": {
   "codemirror_mode": {
    "name": "ipython",
    "version": 3
   },
   "file_extension": ".py",
   "mimetype": "text/x-python",
   "name": "python",
   "nbconvert_exporter": "python",
   "pygments_lexer": "ipython3",
   "version": "3.9.19"
  }
 },
 "nbformat": 4,
 "nbformat_minor": 5
}
